{
 "cells": [
  {
   "cell_type": "code",
   "execution_count": 1,
   "id": "d175b0d6",
   "metadata": {},
   "outputs": [
    {
     "name": "stdout",
     "output_type": "stream",
     "text": [
      "Requirement already satisfied: easyAI in c:\\users\\rakes\\anaconda3\\lib\\site-packages (2.0.12)\n",
      "Requirement already satisfied: numpy in c:\\users\\rakes\\anaconda3\\lib\\site-packages (from easyAI) (1.24.3)\n"
     ]
    }
   ],
   "source": [
    "# installing easyAI\n",
    "!pip install easyAI"
   ]
  },
  {
   "cell_type": "code",
   "execution_count": 2,
   "id": "cf08bf3b",
   "metadata": {},
   "outputs": [],
   "source": [
    "# importing the required classes and functions\n",
    "from easyAI import TwoPlayerGame, Human_Player, AI_Player, solve_with_iterative_deepening, solve_with_depth_first_search\n",
    "from easyAI.AI import Negamax"
   ]
  },
  {
   "cell_type": "code",
   "execution_count": 3,
   "id": "1e1323e1",
   "metadata": {},
   "outputs": [],
   "source": [
    "# declaring the specifications of the game\n",
    "class TicTacToe(TwoPlayerGame):\n",
    "    \"\"\"The board positions are numbered as follows:\n",
    "    1 2 3\n",
    "    4 5 6\n",
    "    7 8 9\n",
    "    \"\"\"\n",
    "\n",
    "    def __init__(self, players=None):\n",
    "        self.players = players\n",
    "        self.board = [0 for i in range(9)]\n",
    "        self.current_player = 1\n",
    "\n",
    "    def possible_moves(self):\n",
    "        return [i + 1 for i, e in enumerate(self.board) if e == 0]\n",
    "\n",
    "    def make_move(self, move):\n",
    "        self.board[int(move) - 1] = self.current_player\n",
    "\n",
    "    def unmake_move(self, move):  # optional method (speeds up the AI)\n",
    "        self.board[int(move) - 1] = 0\n",
    "    def lose(self):\n",
    "        \"\"\" Has the opponent \"three in line ?\" \"\"\"\n",
    "        return any(\n",
    "            [\n",
    "                all([(self.board[c - 1] == self.opponent_index) for c in line])\n",
    "                for line in [\n",
    "                    [1, 2, 3],\n",
    "                    [4, 5, 6],\n",
    "                    [7, 8, 9],  # horiz.\n",
    "                    [1, 4, 7],\n",
    "                    [2, 5, 8],\n",
    "                    [3, 6, 9],  # vertical\n",
    "                    [1, 5, 9],\n",
    "                    [3, 5, 7],\n",
    "                ]\n",
    "            ]\n",
    "        )  # diagonal\n",
    "\n",
    "    def is_over(self):\n",
    "        return (self.possible_moves() == []) or self.lose()\n",
    "    def show(self):\n",
    "        print(\n",
    "            \"\\n\"\n",
    "            + \"\\n\".join(\n",
    "                [\n",
    "                    \" \".join([[\".\", \"O\", \"X\"][self.board[3 * j + i]] for i in range(3)])\n",
    "                    for j in range(3)\n",
    "                ]\n",
    "            )\n",
    "        )\n",
    "\n",
    "    def scoring(self):\n",
    "        return -100 if self.lose() else 0"
   ]
  },
  {
   "cell_type": "code",
   "execution_count": 4,
   "id": "85a5c90c",
   "metadata": {},
   "outputs": [],
   "source": [
    "# solving the game using specified searching approaches\n",
    "def main(algo):\n",
    "  ai = Negamax(9)\n",
    "  if algo == 'id':\n",
    "      result = solve_with_iterative_deepening(game=TicTacToe(players=[AI_Player(ai), Human_Player()]), ai_depths=range(2, 10), win_score=100)\n",
    "  elif algo == 'dfs':\n",
    "      result = solve_with_depth_first_search(game=TicTacToe(players=[AI_Player(ai), Human_Player()]), win_score=100)\n",
    "  else:\n",
    "      print(\"Invalid algorithm.\")\n",
    "  return result"
   ]
  },
  {
   "cell_type": "code",
   "execution_count": 5,
   "id": "8f83e69f",
   "metadata": {},
   "outputs": [
    {
     "name": "stdout",
     "output_type": "stream",
     "text": [
      "d:2, a:0, m:1\n",
      "d:3, a:0, m:1\n",
      "d:4, a:0, m:1\n",
      "d:5, a:0, m:1\n",
      "d:6, a:0, m:1\n",
      "d:7, a:0, m:1\n",
      "d:8, a:0, m:1\n",
      "d:9, a:0, m:1\n",
      "Result:  (0, 9, 1)\n",
      "Time Taken: 0.97s\n"
     ]
    }
   ],
   "source": [
    "import time\n",
    "start = time.time()\n",
    "idres = main('id')\n",
    "end = time.time()\n",
    "print('Result: ', idres)\n",
    "print(str.format('Time Taken: {:.2f}s', end-start))"
   ]
  },
  {
   "cell_type": "code",
   "execution_count": 6,
   "id": "e36f52fb",
   "metadata": {},
   "outputs": [
    {
     "name": "stdout",
     "output_type": "stream",
     "text": [
      "Result:  0\n",
      "Time Taken: 1.83s\n"
     ]
    }
   ],
   "source": [
    "import time\n",
    "start = time.time()\n",
    "dfsres = main('dfs')\n",
    "end = time.time()\n",
    "print('Result: ', dfsres)\n",
    "print(str.format('Time Taken: {:.2f}s', end-start))"
   ]
  },
  {
   "cell_type": "code",
   "execution_count": 7,
   "id": "2fcfde85",
   "metadata": {},
   "outputs": [],
   "source": [
    "# initializing the game\n",
    "game = TicTacToe(players=[AI_Player(Negamax(9)), Human_Player()])"
   ]
  },
  {
   "cell_type": "code",
   "execution_count": 8,
   "id": "1c2c292a",
   "metadata": {},
   "outputs": [
    {
     "data": {
      "text/plain": [
       "1"
      ]
     },
     "execution_count": 8,
     "metadata": {},
     "output_type": "execute_result"
    }
   ],
   "source": [
    "# asking the AI agent for its move\n",
    "game.get_move()"
   ]
  },
  {
   "cell_type": "code",
   "execution_count": 9,
   "id": "e89cb20c",
   "metadata": {},
   "outputs": [
    {
     "name": "stdout",
     "output_type": "stream",
     "text": [
      "\n",
      ". O .\n",
      ". . .\n",
      ". . .\n"
     ]
    }
   ],
   "source": [
    "# haha, playing another move\n",
    "game.play_move(2)\n",
    "game.show()"
   ]
  },
  {
   "cell_type": "code",
   "execution_count": 10,
   "id": "e3e5dd62",
   "metadata": {},
   "outputs": [
    {
     "name": "stdout",
     "output_type": "stream",
     "text": [
      "\n",
      "Player 2 what do you play ? 1\n"
     ]
    },
    {
     "data": {
      "text/plain": [
       "1"
      ]
     },
     "execution_count": 10,
     "metadata": {},
     "output_type": "execute_result"
    }
   ],
   "source": [
    "# now, let us play what the AI model intended to do\n",
    "game.get_move()"
   ]
  },
  {
   "cell_type": "code",
   "execution_count": 11,
   "id": "b9a071fd",
   "metadata": {},
   "outputs": [
    {
     "name": "stdout",
     "output_type": "stream",
     "text": [
      "\n",
      "X O .\n",
      ". . .\n",
      ". . .\n"
     ]
    }
   ],
   "source": [
    "# done\n",
    "game.play_move(1)\n",
    "game.show()"
   ]
  },
  {
   "cell_type": "code",
   "execution_count": 12,
   "id": "0746d2fb",
   "metadata": {},
   "outputs": [
    {
     "data": {
      "text/plain": [
       "4"
      ]
     },
     "execution_count": 12,
     "metadata": {},
     "output_type": "execute_result"
    }
   ],
   "source": [
    "# see how it is frantically trying to survive\n",
    "game.get_move()"
   ]
  },
  {
   "cell_type": "code",
   "execution_count": 13,
   "id": "6928aa10",
   "metadata": {},
   "outputs": [
    {
     "name": "stdout",
     "output_type": "stream",
     "text": [
      "\n",
      "X O O\n",
      ". . .\n",
      ". . .\n"
     ]
    }
   ],
   "source": [
    "# oh no, ai agent, let's give you another move\n",
    "game.play_move(3)\n",
    "game.show()"
   ]
  },
  {
   "cell_type": "code",
   "execution_count": null,
   "id": "aa04588c",
   "metadata": {},
   "outputs": [],
   "source": [
    "# meanwhile we play your move\n",
    "game.get_move()"
   ]
  },
  {
   "cell_type": "code",
   "execution_count": null,
   "id": "178290d4",
   "metadata": {},
   "outputs": [],
   "source": [
    "# hahaha\n",
    "game.play_move(4)\n",
    "game.show()"
   ]
  },
  {
   "cell_type": "code",
   "execution_count": null,
   "id": "cf920776",
   "metadata": {},
   "outputs": [],
   "source": [
    "# ah, trying to stop us, eh?\n",
    "game.get_move()"
   ]
  },
  {
   "cell_type": "code",
   "execution_count": null,
   "id": "735cd14b",
   "metadata": {},
   "outputs": [],
   "source": [
    "# okay, for once, let's grant your wish\n",
    "game.play_move(7)\n",
    "game.show()"
   ]
  },
  {
   "cell_type": "code",
   "execution_count": null,
   "id": "ceff4475",
   "metadata": {},
   "outputs": [],
   "source": [
    "# but we've got other moves too\n",
    "game.get_move()"
   ]
  },
  {
   "cell_type": "code",
   "execution_count": null,
   "id": "f04b9183",
   "metadata": {},
   "outputs": [],
   "source": [
    "# aha\n",
    "game.play_move(5)\n",
    "game.show()"
   ]
  },
  {
   "cell_type": "code",
   "execution_count": null,
   "id": "e09f71eb",
   "metadata": {},
   "outputs": [],
   "source": [
    "# okay, your turn\n",
    "game.get_move()"
   ]
  },
  {
   "cell_type": "code",
   "execution_count": null,
   "id": "80eff375",
   "metadata": {},
   "outputs": [],
   "source": [
    "# i don't see how this is going to stop me from winning, so okay your wish\n",
    "game.play_move(6)\n",
    "game.show()"
   ]
  },
  {
   "cell_type": "code",
   "execution_count": null,
   "id": "4245610e",
   "metadata": {},
   "outputs": [],
   "source": [
    "# beating you at your own game\n",
    "game.get_move()"
   ]
  },
  {
   "cell_type": "code",
   "execution_count": null,
   "id": "7ad23b44",
   "metadata": {},
   "outputs": [],
   "source": [
    "# ai can never take over humans\n",
    "game.play_move(9)\n",
    "game.show()"
   ]
  }
 ],
 "metadata": {
  "kernelspec": {
   "display_name": "Python 3 (ipykernel)",
   "language": "python",
   "name": "python3"
  },
  "language_info": {
   "codemirror_mode": {
    "name": "ipython",
    "version": 3
   },
   "file_extension": ".py",
   "mimetype": "text/x-python",
   "name": "python",
   "nbconvert_exporter": "python",
   "pygments_lexer": "ipython3",
   "version": "3.11.5"
  }
 },
 "nbformat": 4,
 "nbformat_minor": 5
}
